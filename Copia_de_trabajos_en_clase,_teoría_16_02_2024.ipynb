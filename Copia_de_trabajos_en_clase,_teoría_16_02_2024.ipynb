{
  "nbformat": 4,
  "nbformat_minor": 0,
  "metadata": {
    "colab": {
      "provenance": []
    },
    "kernelspec": {
      "name": "python3",
      "display_name": "Python 3"
    },
    "language_info": {
      "name": "python"
    }
  },
  "cells": [
    {
      "cell_type": "markdown",
      "source": [
        "Ejercicio #1\n"
      ],
      "metadata": {
        "id": "2joNwfX7EfwH"
      }
    },
    {
      "cell_type": "code",
      "source": [
        "class Book:\n",
        "    libros_dispo = []\n",
        "    libros_presta = []\n",
        "\n",
        "    def __init__(self, titulo, autor, paginas, edicion, año_publi):\n",
        "        self.autor = autor\n",
        "        self.paginas = paginas\n",
        "        self.edicion = edicion\n",
        "        self.año_publi = año_publi\n",
        "        self.titulo = titulo\n",
        "\n",
        "    def añadir(self):\n",
        "        Book.libros_dispo.append(self)\n",
        "\n",
        "    def prestar(self):\n",
        "        libro_deseado = input(\"Ingrese el título del libro: \")\n",
        "        encontrado = False\n",
        "        for libro in self.libros_dispo:\n",
        "            if libro_deseado.lower() == libro.titulo.lower():\n",
        "                self.libros_dispo.remove(libro)\n",
        "                self.libros_presta.append(libro)\n",
        "                print(\"Se ha prestado el libro\")\n",
        "                encontrado = True\n",
        "                break\n",
        "        if not encontrado:\n",
        "            for libro in self.libros_presta:\n",
        "                if libro_deseado.lower() == libro.titulo.lower():\n",
        "                    print(\"El libro se encuentra ya prestado\")\n",
        "                    encontrado = True\n",
        "                    break\n",
        "        if not encontrado:\n",
        "            print(\"El libro no se encuentra en nuestra base de datos\")\n",
        "\n",
        "    def devolver(self):\n",
        "        libro_deseado = input(\"Ingrese el título del libro: \")\n",
        "        encontrado = False\n",
        "        for libro in self.libros_presta:\n",
        "            if libro_deseado.lower() == libro.titulo.lower():\n",
        "                self.libros_presta.remove(libro)\n",
        "                self.libros_dispo.append(libro)\n",
        "                print(\"Se ha devuelto el libro\")\n",
        "                encontrado = True\n",
        "                break\n",
        "        if not encontrado:\n",
        "            for libro in self.libros_dispo:\n",
        "                if libro_deseado.lower() == libro.titulo.lower():\n",
        "                    print(\"El libro ya se encuentra en nuestro inventario\")\n",
        "                    encontrado = True\n",
        "                    break\n",
        "        if not encontrado:\n",
        "            print(\"El libro no se encuentra en nuestra base de datos\")\n",
        "\n",
        "    def buscar_por_titulo(self):\n",
        "        titul1 = input(\"Ingrese el título del libro que desea buscar: \")\n",
        "        for index, libro in enumerate(self.libros_dispo + self.libros_presta):\n",
        "            if titul1.lower() == libro.titulo.lower():\n",
        "                print(\"Libro encontrado por título:\")\n",
        "                print(f\"Título: {libro.titulo}, Autor: {libro.autor}, Posición: {index}\")\n",
        "                return\n",
        "        print(\"Libro no encontrado por título\")\n",
        "\n",
        "    def buscar_por_autor(self):\n",
        "        autor_buscado = input(\"Ingrese el nombre del autor que desea buscar: \")\n",
        "        libros_encontrados = []\n",
        "        for index, libro in enumerate(self.libros_dispo + self.libros_presta):\n",
        "            if autor_buscado.lower() == libro.autor.lower():\n",
        "                libros_encontrados.append((libro, index))\n",
        "        if libros_encontrados:\n",
        "            print(\"Libros encontrados por autor:\")\n",
        "            for libro, posicion in libros_encontrados:\n",
        "                print(f\"Título: {libro.titulo}, Autor: {libro.autor}, Posición: {posicion}\")\n",
        "        else:\n",
        "            print(\"No se encontraron libros por autor\")\n",
        "\n",
        "    def mostrar_libros_disponibles(self):\n",
        "          print(\"Libros disponibles:\")\n",
        "          for index, libro in enumerate(self.libros_dispo):\n",
        "            print(f\"Título: {libro.titulo}, Autor: {libro.autor}, Posición: {index}\")\n"
      ],
      "metadata": {
        "id": "v6-pkNPPJtql"
      },
      "execution_count": null,
      "outputs": []
    },
    {
      "cell_type": "code",
      "source": [
        "libro1 = Book(\"Python for Beginners\", \"John Smith\", 300, 1, 2020)\n",
        "libro2 = Book(\"Introduction to Data Science\", \"Alice Johnson\", 250, 2, 2019)\n",
        "libro3 = Book(\"Advanced Python Programming\", \"John Smith\", 400, 1, 2021)"
      ],
      "metadata": {
        "id": "2Yt1y_255y0V"
      },
      "execution_count": null,
      "outputs": []
    },
    {
      "cell_type": "code",
      "source": [
        "libro1.añadir()\n",
        "libro2.añadir()\n",
        "libro3.añadir()\n",
        "\n",
        "libro1.mostrar_libros_disponibles()"
      ],
      "metadata": {
        "colab": {
          "base_uri": "https://localhost:8080/"
        },
        "id": "ZTl7l9bU5YIq",
        "outputId": "06514f97-53f0-4134-846a-8441da585c37"
      },
      "execution_count": null,
      "outputs": [
        {
          "output_type": "stream",
          "name": "stdout",
          "text": [
            "Libros disponibles:\n",
            "Título: Python for Beginners, Autor: John Smith, Posición: 0\n",
            "Título: Introduction to Data Science, Autor: Alice Johnson, Posición: 1\n",
            "Título: Advanced Python Programming, Autor: John Smith, Posición: 2\n"
          ]
        }
      ]
    },
    {
      "cell_type": "code",
      "source": [
        "libro1.buscar_por_autor()"
      ],
      "metadata": {
        "colab": {
          "base_uri": "https://localhost:8080/"
        },
        "id": "oNwWZ54WA-GE",
        "outputId": "14f01b81-562b-49d9-f05e-fcf15ddc566c"
      },
      "execution_count": null,
      "outputs": [
        {
          "output_type": "stream",
          "name": "stdout",
          "text": [
            "Ingrese el nombre del autor que desea buscar: john smith\n",
            "Libros encontrados por autor:\n",
            "Título: Python for Beginners, Autor: John Smith, Posición: 0\n",
            "Título: Advanced Python Programming, Autor: John Smith, Posición: 2\n"
          ]
        }
      ]
    },
    {
      "cell_type": "code",
      "source": [
        "libro1.buscar_por_titulo()"
      ],
      "metadata": {
        "colab": {
          "base_uri": "https://localhost:8080/"
        },
        "id": "Lzor44TWBEOR",
        "outputId": "f7c23e85-3a94-4b6a-ad97-9e2cbc40e40b"
      },
      "execution_count": null,
      "outputs": [
        {
          "output_type": "stream",
          "name": "stdout",
          "text": [
            "Ingrese el título del libro que desea buscar: Introduction to Data Science\n",
            "Libro encontrado por título:\n",
            "Título: Introduction to Data Science, Autor: Alice Johnson, Posición: 1\n"
          ]
        }
      ]
    },
    {
      "cell_type": "code",
      "source": [
        "libro1.devolver()"
      ],
      "metadata": {
        "colab": {
          "base_uri": "https://localhost:8080/"
        },
        "id": "q6lS3VZGBHTD",
        "outputId": "f8dc98b6-6ba9-4787-bad8-65a21240e980"
      },
      "execution_count": null,
      "outputs": [
        {
          "output_type": "stream",
          "name": "stdout",
          "text": [
            "Ingrese el título del libro: Introduction to Data Science\n",
            "Se ha devuelto el libro\n"
          ]
        }
      ]
    },
    {
      "cell_type": "code",
      "source": [
        "libro1.prestar()"
      ],
      "metadata": {
        "colab": {
          "base_uri": "https://localhost:8080/"
        },
        "id": "S8TqK8KbBTKV",
        "outputId": "7bf1e09b-090d-415e-85d1-e5113fa87e1d"
      },
      "execution_count": null,
      "outputs": [
        {
          "output_type": "stream",
          "name": "stdout",
          "text": [
            "Ingrese el título del libro: Introduction to Data Science\n",
            "Se ha prestado el libro\n"
          ]
        }
      ]
    },
    {
      "cell_type": "markdown",
      "source": [
        "Ejercicio #2\n"
      ],
      "metadata": {
        "id": "mR6eaJ3FCOoK"
      }
    },
    {
      "cell_type": "code",
      "source": [
        "class Habitacion:\n",
        "    def __init__(self, numero, tipo, precio_por_noche):\n",
        "        self.numero = numero\n",
        "        self.tipo = tipo\n",
        "        self.precio_por_noche = precio_por_noche\n",
        "        self.estado = \"Disponible\"\n",
        "\n",
        "    def __str__(self):\n",
        "        return f\"Habitación {self.numero} - Tipo: {self.tipo} - Precio por noche: {self.precio_por_noche} - Estado: {self.estado}\"\n",
        "\n",
        "class Hotel:\n",
        "    def __init__(self):\n",
        "        self.habitaciones = []\n",
        "\n",
        "    def registrar_habitacion(self, habitacion):\n",
        "        self.habitaciones.append(habitacion)\n",
        "\n",
        "    def reservar_habitacion(self, numero_habitacion):\n",
        "        for habitacion in self.habitaciones:\n",
        "            if habitacion.numero == numero_habitacion and habitacion.estado == \"Disponible\":\n",
        "                habitacion.estado = \"Reservada\"\n",
        "                return True\n",
        "            print(\"La habitación\",numero_habitacion,\"Ha sido reservada\")\n",
        "        return False\n",
        "\n",
        "    def calcular_costo_estancia(self, numero_habitacion, num_noches):\n",
        "        for habitacion in self.habitaciones:\n",
        "            if habitacion.numero == numero_habitacion and habitacion.estado == \"Reservada\":\n",
        "                habitacion.estado = \"Disponible\"\n",
        "                return habitacion.precio_por_noche * num_noches\n",
        "        return None\n",
        "\n",
        "    def habitaciones_disponibles(self):\n",
        "        disponibles = [habitacion for habitacion in self.habitaciones if habitacion.estado == \"Disponible\"]\n",
        "        return disponibles\n",
        "\n",
        "# Ejemplo de uso\n",
        "\n",
        "# Crear habitaciones\n",
        "habitacion1 = Habitacion(101, \"Simple\", 50)\n",
        "habitacion2 = Habitacion(102, \"Doble\", 80)\n",
        "habitacion3 = Habitacion(103, \"Suite\", 120)\n",
        "\n"
      ],
      "metadata": {
        "id": "sElpMnBxCRGN"
      },
      "execution_count": null,
      "outputs": []
    },
    {
      "cell_type": "code",
      "source": [
        "# Crear hotel\n",
        "hotel = Hotel()\n",
        "\n",
        "# Registrar habitaciones\n",
        "hotel.registrar_habitacion(habitacion1)\n",
        "hotel.registrar_habitacion(habitacion2)\n",
        "hotel.registrar_habitacion(habitacion3)\n",
        "\n"
      ],
      "metadata": {
        "id": "Q1XqggvdXijg"
      },
      "execution_count": null,
      "outputs": []
    },
    {
      "cell_type": "code",
      "source": [
        "# Reservar una habitación\n",
        "hotel.reservar_habitacion(102)\n",
        "\n",
        "# Calcular costo de estancia\n",
        "costo = hotel.calcular_costo_estancia(102, 3)\n",
        "print(f\"Costo de la estancia: {costo} \\n\", \"La habitación ha vuelto a estar disponible\")\n",
        "\n",
        "# Reservar una habitación\n",
        "hotel.reservar_habitacion(102)\n",
        "\n",
        "# Mostrar habitaciones disponibles\n",
        "disponibles = hotel.habitaciones_disponibles()\n",
        "print(\"Habitaciones disponibles:\")\n",
        "for habitacion in disponibles:\n",
        "    print(habitacion)"
      ],
      "metadata": {
        "colab": {
          "base_uri": "https://localhost:8080/"
        },
        "id": "CSVsHzLXXlef",
        "outputId": "80b5cded-2eb1-4f76-e635-1f6c325c6dd6"
      },
      "execution_count": null,
      "outputs": [
        {
          "output_type": "stream",
          "name": "stdout",
          "text": [
            "La habitación 102 Ha sido reservada\n",
            "Costo de la estancia: 240 \n",
            " La habitación ha vuelto a estar disponible\n",
            "La habitación 102 Ha sido reservada\n",
            "Habitaciones disponibles:\n",
            "Habitación 101 - Tipo: Simple - Precio por noche: 50 - Estado: Disponible\n",
            "Habitación 103 - Tipo: Suite - Precio por noche: 120 - Estado: Disponible\n"
          ]
        }
      ]
    },
    {
      "cell_type": "markdown",
      "source": [
        "**Ejercicio #3**\n"
      ],
      "metadata": {
        "id": "9lOyw-tpYkTO"
      }
    },
    {
      "cell_type": "code",
      "source": [
        "class Empleado:\n",
        "    def __init__(self, nombre, identificacion, puesto, salario):\n",
        "        self.nombre = nombre\n",
        "        self.identificacion = identificacion\n",
        "        self.puesto = puesto\n",
        "        self.salario = salario\n",
        "\n",
        "    def __str__(self):\n",
        "        return f\"Empleado {self.nombre} - Identificación: {self.identificacion} - Puesto: {self.puesto} - Salario: {self.salario}\"\n",
        "\n",
        "class Departamento:\n",
        "    def __init__(self):\n",
        "        self.empleados = []\n",
        "\n",
        "    def añadir_empleado(self, empleado):\n",
        "        self.empleados.append(empleado)\n",
        "\n",
        "    def eliminar_empleado(self, identificacion):\n",
        "        for empleado in self.empleados:\n",
        "            if empleado.identificacion == identificacion:\n",
        "                self.empleados.remove(empleado)\n",
        "                print(\"El empleado ha sido removido con éxito\")\n",
        "            else:\n",
        "              print(\"El empleado no se encuentra en la base de datos\")\n",
        "\n",
        "    def modificar_salario_empleado(self, identificacion, porcentaje):\n",
        "        for empleado in self.empleados:\n",
        "            if empleado.identificacion == identificacion:\n",
        "              factor_cambio = 1 + porcentaje / 100\n",
        "              empleado.salario *= factor_cambio\n",
        "              print(f\"Salario de {empleado.nombre} actualizado con éxito.\",f\"Su salario ahora es: {empleado.salario} \")\n",
        "            else:\n",
        "              print(\"El empleado no se encuentra en la base de datos\")\n",
        "\n",
        "    def ver_empleados(self):\n",
        "        for empleado in self.empleados:\n",
        "            print(empleado)\n",
        "    def pagototal(self):\n",
        "      gasto_total = sum(empleado.salario for empleado in self.empleados)\n",
        "      print(\"El valor total de los salarios de los empleados es de_ \",gasto_total)"
      ],
      "metadata": {
        "id": "KgZPZ_ywZWBL"
      },
      "execution_count": null,
      "outputs": []
    },
    {
      "cell_type": "code",
      "source": [
        "    empleado1 = Empleado(\"Juan\", 1234, \"Gerente\", 50000)\n",
        "    empleado2 = Empleado(\"María\", 5678, \"Analista\", 30000)\n",
        "    empleado3 = Empleado(\"Kevin\", 1054, \"Tutor\", 25000)\n",
        "    departamento = Departamento()\n",
        "    departamento.añadir_empleado(empleado1)\n",
        "    departamento.añadir_empleado(empleado2)\n",
        "    departamento.añadir_empleado(empleado3)"
      ],
      "metadata": {
        "id": "catU32qwcoN3"
      },
      "execution_count": null,
      "outputs": []
    },
    {
      "cell_type": "code",
      "source": [
        "departamento.ver_empleados()"
      ],
      "metadata": {
        "colab": {
          "base_uri": "https://localhost:8080/"
        },
        "id": "8_T4-dhXdJ8v",
        "outputId": "f6e708d5-3c44-4512-e8ca-e879779d8c4f"
      },
      "execution_count": null,
      "outputs": [
        {
          "output_type": "stream",
          "name": "stdout",
          "text": [
            "Empleado Juan - Identificación: 1234 - Puesto: Gerente - Salario: 50000\n",
            "Empleado María - Identificación: 5678 - Puesto: Analista - Salario: 30000\n",
            "Empleado Kevin - Identificación: 1054 - Puesto: Tutor - Salario: 25000\n"
          ]
        }
      ]
    },
    {
      "cell_type": "code",
      "source": [
        "departamento.eliminar_empleado(1234)"
      ],
      "metadata": {
        "colab": {
          "base_uri": "https://localhost:8080/"
        },
        "id": "pPHKsUBGdMFZ",
        "outputId": "8c429c65-3c88-42ed-df85-9d62a0eb6cee"
      },
      "execution_count": null,
      "outputs": [
        {
          "output_type": "stream",
          "name": "stdout",
          "text": [
            "El empleado ha sido removido con éxito\n",
            "El empleado no se encuentra en la base de datos\n"
          ]
        }
      ]
    },
    {
      "cell_type": "code",
      "source": [
        "departamento.modificar_salario_empleado(5678, 10)"
      ],
      "metadata": {
        "colab": {
          "base_uri": "https://localhost:8080/"
        },
        "id": "tJNHWWKudgrH",
        "outputId": "10f5687c-f8b1-48b6-9c9b-795d67359f40"
      },
      "execution_count": null,
      "outputs": [
        {
          "output_type": "stream",
          "name": "stdout",
          "text": [
            "Salario de María actualizado con éxito. Su salario ahora es: 33000.0 \n",
            "El empleado no se encuentra en la base de datos\n"
          ]
        }
      ]
    },
    {
      "cell_type": "code",
      "source": [
        "departamento.pagototal()"
      ],
      "metadata": {
        "colab": {
          "base_uri": "https://localhost:8080/"
        },
        "id": "tDlPy4_1e8XH",
        "outputId": "1fe2376a-b8bd-45d9-f09e-8ac4e8632736"
      },
      "execution_count": null,
      "outputs": [
        {
          "output_type": "stream",
          "name": "stdout",
          "text": [
            "El valor total de los salarios de los empleados es de_  58000.0\n"
          ]
        }
      ]
    },
    {
      "cell_type": "markdown",
      "source": [
        "**Ejercicio #4**"
      ],
      "metadata": {
        "id": "Va_9vhD-fltP"
      }
    },
    {
      "cell_type": "code",
      "source": [
        "class Producto:\n",
        "    def __init__(self, identificador, nombre, precio, cantidad):\n",
        "        self.identificador = identificador\n",
        "        self.nombre = nombre\n",
        "        self.precio = precio\n",
        "        self.cantidad = cantidad\n",
        "\n",
        "    def __str__(self):\n",
        "        return f\"Producto {self.nombre} - Identificador: {self.identificador} - Precio: {self.precio} - Cantidad: {self.cantidad}\"\n",
        "\n",
        "\n",
        "class CarritoCompras:\n",
        "    def __init__(self):\n",
        "        self.productos = []\n",
        "\n",
        "    def agregar_producto(self, producto):\n",
        "        self.productos.append(producto)\n",
        "\n",
        "    def eliminar_producto(self, nombre):\n",
        "        for producto in self.productos:\n",
        "            if producto.nombre == nombre:\n",
        "                self.productos.remove(producto)\n",
        "                print(\"El producto ha sido removido con éxito\")\n",
        "                break\n",
        "        else:\n",
        "            print(\"El producto no se encuentra en el carrito\")\n",
        "\n",
        "    def ver_productos(self):\n",
        "      for producto in self.productos:\n",
        "        print(producto)\n",
        "\n",
        "    def pago_total(self):\n",
        "        gasto_total = sum(producto.precio for producto in self.productos)\n",
        "        print(\"El valor total de los productos en el carrito de compras es de: \", gasto_total)\n",
        "\n",
        "    def descuento(self, identificador, porcentaje):\n",
        "        descuentostipo = (input(\"Ingrese 1 si el descuento es solo a un producto, 0 en otro caso: \"))\n",
        "        factor_cambio = porcentaje / 100\n",
        "        if descuentostipo == \"1\":\n",
        "            for producto in self.productos:\n",
        "                if producto.identificador == identificador:\n",
        "                    valorprod = producto.precio\n",
        "                    valorprod *= factor_cambio\n",
        "                    producto.precio -= valorprod\n",
        "                    print(f\"El valor del producto es ahora: {producto.precio}\")\n",
        "                    break\n",
        "        elif descuentostipo == \"0\":\n",
        "            gasto_total = sum(producto.precio for producto in self.productos)\n",
        "            gasto_parcial = factor_cambio * gasto_total\n",
        "            gasto_total -= gasto_parcial\n",
        "            print(\"El valor total de su compra con descuentos es de: \", gasto_total)\n",
        "\n"
      ],
      "metadata": {
        "id": "sbZqJFVHfoe3"
      },
      "execution_count": null,
      "outputs": []
    },
    {
      "cell_type": "code",
      "source": [
        "producto1=Producto(1,\"jabon_fab\",2500,2)\n",
        "producto2=Producto(2,\"chokis\",1200,5)\n",
        "producto3=Producto(3,\"aguardiente\",32000,5)\n",
        "carrito=CarritoCompras()\n",
        "carrito.agregar_producto(producto1)\n",
        "carrito.agregar_producto(producto2)\n",
        "carrito.agregar_producto(producto3)\n"
      ],
      "metadata": {
        "id": "0IOGIYS2Itxf"
      },
      "execution_count": null,
      "outputs": []
    },
    {
      "cell_type": "code",
      "source": [
        "carrito.eliminar_producto(\"jabon_fab\")"
      ],
      "metadata": {
        "colab": {
          "base_uri": "https://localhost:8080/"
        },
        "id": "v1MLieQ4KZCb",
        "outputId": "beac4893-021b-4083-e4ff-f050ce9de69f"
      },
      "execution_count": null,
      "outputs": [
        {
          "output_type": "stream",
          "name": "stdout",
          "text": [
            "El producto ha sido removido con éxito\n"
          ]
        }
      ]
    },
    {
      "cell_type": "code",
      "source": [
        "carrito.ver_productos()"
      ],
      "metadata": {
        "colab": {
          "base_uri": "https://localhost:8080/"
        },
        "id": "IIE8e0fQKoy9",
        "outputId": "732a606e-5c59-4b38-e66e-3630ca271ec8"
      },
      "execution_count": null,
      "outputs": [
        {
          "output_type": "stream",
          "name": "stdout",
          "text": [
            "Producto chokis - Identificador: 2 - Precio: 1200 - Cantidad: 5\n",
            "Producto aguardiente - Identificador: 3 - Precio: 32000 - Cantidad: 5\n"
          ]
        }
      ]
    },
    {
      "cell_type": "code",
      "source": [
        "carrito.pago_total()"
      ],
      "metadata": {
        "colab": {
          "base_uri": "https://localhost:8080/"
        },
        "id": "ycVXPq5cLLsr",
        "outputId": "1f10933f-49ab-4d68-b668-2fe019293861"
      },
      "execution_count": null,
      "outputs": [
        {
          "output_type": "stream",
          "name": "stdout",
          "text": [
            "El valor total de los productos en el carrito de compras es de:  33200\n"
          ]
        }
      ]
    },
    {
      "cell_type": "code",
      "source": [
        "carrito.descuento(2,25)"
      ],
      "metadata": {
        "colab": {
          "base_uri": "https://localhost:8080/"
        },
        "id": "s_7XpP3hLS5L",
        "outputId": "8acfcd14-7e9f-4819-e980-51a5a271138b"
      },
      "execution_count": null,
      "outputs": [
        {
          "output_type": "stream",
          "name": "stdout",
          "text": [
            "Ingrese 1 si el descuento es solo a un producto, 0 en otro caso: 0\n",
            "El valor total de su compra con descuentos es de:  24900.0\n"
          ]
        }
      ]
    }
  ]
}